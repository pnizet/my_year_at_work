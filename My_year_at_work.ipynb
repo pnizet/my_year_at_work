{
 "cells": [
  {
   "cell_type": "code",
   "execution_count": 46,
   "metadata": {
    "code_folding": [
     0
    ],
    "collapsed": true
   },
   "outputs": [],
   "source": [
    "# The usual preamble\n",
    "import pandas as pd\n",
    "import numpy as np\n",
    "import matplotlib.pyplot as plt\n",
    "\n",
    "import matplotlib.patches as mpatches\n",
    "import matplotlib.cm as cm\n",
    "from matplotlib.colors import Normalize\n",
    "from mpl_toolkits.axes_grid1 import make_axes_locatable\n",
    "\n",
    "from mpl_toolkits.mplot3d import Axes3D\n",
    "from matplotlib import cm\n",
    "import calmap\n",
    "\n",
    "# Pour avoir de belles courbes\n",
    "%matplotlib inline\n",
    "plt.rcParams['figure.figsize'] = (17, 10)\n",
    "pd.set_option('display.width', 5000) \n",
    "pd.set_option('display.max_columns', 60)"
   ]
  },
  {
   "cell_type": "code",
   "execution_count": 47,
   "metadata": {
    "collapsed": false
   },
   "outputs": [],
   "source": [
    "dateparse = lambda x: pd.datetime.strptime(x, '%d/%m/%Y')\n",
    "df = pd.read_csv('./activity_2020.csv',parse_dates=['date'],date_parser=dateparse,index_col=['date'],delimiter=';')"
   ]
  },
  {
   "cell_type": "code",
   "execution_count": 48,
   "metadata": {
    "collapsed": false
   },
   "outputs": [],
   "source": [
    "# first value : the text that we search in the csv file\n",
    "# second value : the corresponding score\n",
    "conf = [['Leave', 1],\n",
    "        ['Imposed leave', 2],\n",
    "        ['Public holiday', 3],\n",
    "        ['Week-end', 4],\n",
    "        ['Sick Leave', 5],\n",
    "        ['Home Office', 8],\n",
    "        ['@ Office', 10]         \n",
    "       ]"
   ]
  },
  {
   "cell_type": "code",
   "execution_count": null,
   "metadata": {
    "collapsed": false
   },
   "outputs": [],
   "source": []
  },
  {
   "cell_type": "code",
   "execution_count": null,
   "metadata": {
    "collapsed": true
   },
   "outputs": [],
   "source": []
  },
  {
   "cell_type": "code",
   "execution_count": 49,
   "metadata": {
    "collapsed": false
   },
   "outputs": [],
   "source": [
    "df['score'] = \"\"\n",
    "df['score'] = np.where(df['activité'].isna(), 0, df['score'])\n",
    "df['score'] = np.where(df['activité'] == conf[0][0], conf[0][1], df['score'])\n",
    "df['score'] = np.where(df['activité'] == conf[1][0], conf[1][1], df['score'])\n",
    "df['score'] = np.where(df['activité'] == conf[2][0], conf[2][1], df['score'])\n",
    "df['score'] = np.where(df['activité'] == conf[3][0], conf[3][1], df['score'])\n",
    "df['score'] = np.where(df['activité'] == conf[4][0], conf[4][1], df['score'])\n",
    "df['score'] = np.where(df['activité'] == conf[5][0], conf[5][1], df['score'])\n",
    "df['score'] = np.where(df['activité'] == conf[6][0], conf[6][1], df['score'])"
   ]
  },
  {
   "cell_type": "code",
   "execution_count": 50,
   "metadata": {
    "collapsed": false
   },
   "outputs": [],
   "source": [
    "df['score'];"
   ]
  },
  {
   "cell_type": "code",
   "execution_count": 51,
   "metadata": {
    "collapsed": false
   },
   "outputs": [
    {
     "data": {
      "text/plain": [
       "Text(0.5,1,'My 2020 work year')"
      ]
     },
     "execution_count": 51,
     "metadata": {},
     "output_type": "execute_result"
    },
    {
     "data": {
      "image/png": "[encoded data removed]",
      "text/plain": [
       "<Figure size 1440x576 with 1 Axes>"
      ]
     },
     "metadata": {
      "needs_background": "light"
     },
     "output_type": "display_data"
    }
   ],
   "source": [
    "cmap = cm.rainbow\n",
    "norm = Normalize(vmin=0, vmax=10)\n",
    "\n",
    "fig = plt.figure(figsize=(20,8))\n",
    "ax = fig.add_subplot(111)\n",
    "cax = calmap.yearplot(df['score'], ax=ax, cmap=cmap)\n",
    "\n",
    "\n",
    "red_patch =  mpatches.Patch(color=cmap(norm(conf[6][1])), label=conf[6][0])\n",
    "ora_patch =  mpatches.Patch(color=cmap(norm(conf[5][1])), label=conf[5][0])\n",
    "gre_patch =  mpatches.Patch(color=cmap(norm(conf[4][1])), label=conf[4][0])\n",
    "lbl_patch =  mpatches.Patch(color=cmap(norm(conf[3][1])), label=conf[3][0])\n",
    "blu_patch =  mpatches.Patch(color=cmap(norm(conf[2][1])), label=conf[2][0])\n",
    "dbl_patch =  mpatches.Patch(color=cmap(norm(conf[1][1])), label=conf[1][0])\n",
    "pur_patch =  mpatches.Patch(color=cmap(norm(conf[0][1])), label=conf[0][0])\n",
    "\n",
    "fig.legend(handles=[red_patch,\n",
    "                    ora_patch,\n",
    "                    gre_patch,\n",
    "                    lbl_patch,\n",
    "                    blu_patch,\n",
    "                    dbl_patch,\n",
    "                    pur_patch],\n",
    "           loc='lower center',\n",
    "           fontsize='x-large')\n",
    "plt.title('My 2020 work year',fontsize='xx-large')"
   ]
  },
  {
   "cell_type": "code",
   "execution_count": null,
   "metadata": {
    "collapsed": false
   },
   "outputs": [],
   "source": []
  },
  {
   "cell_type": "code",
   "execution_count": null,
   "metadata": {
    "collapsed": true
   },
   "outputs": [],
   "source": []
  }
 ],
 "metadata": {
  "anaconda-cloud": {},
  "kernelspec": {
   "display_name": "Python [conda env:anaconda-ulabenv]",
   "language": "python",
   "name": "conda-env-anaconda-ulabenv-py"
  },
  "language_info": {
   "codemirror_mode": {
    "name": "ipython",
    "version": 3
   },
   "file_extension": ".py",
   "mimetype": "text/x-python",
   "name": "python",
   "nbconvert_exporter": "python",
   "pygments_lexer": "ipython3",
   "version": "3.5.5"
  }
 },
 "nbformat": 4,
 "nbformat_minor": 2
}
